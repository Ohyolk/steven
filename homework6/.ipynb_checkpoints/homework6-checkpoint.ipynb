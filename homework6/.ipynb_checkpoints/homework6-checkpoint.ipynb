{
 "cells": [
  {
   "cell_type": "code",
   "execution_count": 7,
   "id": "17cc5858-4b94-4f61-887a-007e7c1d2f2f",
   "metadata": {},
   "outputs": [],
   "source": [
    "import numpy as np"
   ]
  },
  {
   "cell_type": "code",
   "execution_count": 8,
   "id": "44c40a5a-190b-4c30-a70e-e1f8fc18274e",
   "metadata": {},
   "outputs": [],
   "source": [
    "list = [20, 27, 9, 12, 31, 17, 4, 50, 39, 35]\n",
    "arr = np.array(list)"
   ]
  },
  {
   "cell_type": "code",
   "execution_count": 9,
   "id": "18cfb8d9-3cda-429f-b69c-78fdc999b5a6",
   "metadata": {},
   "outputs": [
    {
     "data": {
      "text/plain": [
       "array([ 80, 108,  36,  48, 124,  68,  16, 200, 156, 140])"
      ]
     },
     "execution_count": 9,
     "metadata": {},
     "output_type": "execute_result"
    }
   ],
   "source": [
    "arr * 4"
   ]
  },
  {
   "cell_type": "code",
   "execution_count": 10,
   "id": "e0c71312-f8bc-4428-b95e-11554e5ea4b6",
   "metadata": {},
   "outputs": [
    {
     "name": "stdout",
     "output_type": "stream",
     "text": [
      "24.4\n"
     ]
    }
   ],
   "source": [
    "print(np.mean(arr))"
   ]
  },
  {
   "cell_type": "code",
   "execution_count": 11,
   "id": "38800057-6b29-4391-ac69-8be7ef6e939b",
   "metadata": {},
   "outputs": [
    {
     "name": "stdout",
     "output_type": "stream",
     "text": [
      "23.5\n"
     ]
    }
   ],
   "source": [
    "print(np.median(arr))"
   ]
  },
  {
   "cell_type": "code",
   "execution_count": 12,
   "id": "5a8a7356-e5c5-4931-ac3f-ccf07eec12f5",
   "metadata": {},
   "outputs": [
    {
     "name": "stdout",
     "output_type": "stream",
     "text": [
      "13.828955130450023\n"
     ]
    }
   ],
   "source": [
    "print(np.std(arr))"
   ]
  },
  {
   "cell_type": "code",
   "execution_count": 13,
   "id": "e455ed9d-1fa7-450b-8278-dac0b4ae44cf",
   "metadata": {},
   "outputs": [
    {
     "name": "stdout",
     "output_type": "stream",
     "text": [
      "6\n"
     ]
    }
   ],
   "source": [
    "print(np.argmin(arr))"
   ]
  },
  {
   "cell_type": "code",
   "execution_count": 14,
   "id": "193a112a-8313-4e6f-91de-5f35b33a1583",
   "metadata": {},
   "outputs": [
    {
     "name": "stdout",
     "output_type": "stream",
     "text": [
      "7\n"
     ]
    }
   ],
   "source": [
    "print(np.argmax(arr))"
   ]
  },
  {
   "cell_type": "code",
   "execution_count": 15,
   "id": "4e9d747a-ebe6-4496-b07f-226456707ace",
   "metadata": {},
   "outputs": [
    {
     "name": "stdout",
     "output_type": "stream",
     "text": [
      "4\n"
     ]
    }
   ],
   "source": [
    "print(arr[np.argmin(arr)])"
   ]
  },
  {
   "cell_type": "code",
   "execution_count": 16,
   "id": "19135d66-d0c0-4370-89ec-7ccb37305d87",
   "metadata": {},
   "outputs": [
    {
     "name": "stdout",
     "output_type": "stream",
     "text": [
      "50\n"
     ]
    }
   ],
   "source": [
    "print(arr[np.argmax(arr)])"
   ]
  },
  {
   "cell_type": "code",
   "execution_count": 17,
   "id": "37f62e34-9eca-4e46-bb12-5546d2054afd",
   "metadata": {},
   "outputs": [
    {
     "name": "stdout",
     "output_type": "stream",
     "text": [
      "4\n"
     ]
    }
   ],
   "source": [
    "print(np.min(arr))"
   ]
  },
  {
   "cell_type": "code",
   "execution_count": 18,
   "id": "3a83ca66-5f74-4218-9bd4-983c811aa1b9",
   "metadata": {},
   "outputs": [
    {
     "name": "stdout",
     "output_type": "stream",
     "text": [
      "50\n"
     ]
    }
   ],
   "source": [
    "print(np.max(arr))"
   ]
  },
  {
   "cell_type": "code",
   "execution_count": 19,
   "id": "e0daafd2-7a7c-4d9a-aa5f-f03ac7a318b3",
   "metadata": {},
   "outputs": [
    {
     "name": "stdout",
     "output_type": "stream",
     "text": [
      "[27 31 50 39 35]\n"
     ]
    }
   ],
   "source": [
    "print(arr[arr > 20])"
   ]
  },
  {
   "cell_type": "code",
   "execution_count": 20,
   "id": "8625ae5d-cc1a-49dd-b854-ed3ba98c1485",
   "metadata": {},
   "outputs": [],
   "source": [
    "matrix = [\n",
    "    [5, 12, 17, 9],\n",
    "    [8, 21, 14, 3],\n",
    "    [6, 13, 19, 11]\n",
    "]"
   ]
  },
  {
   "cell_type": "code",
   "execution_count": 21,
   "id": "33d0cd7f-ac3e-4736-a206-de9e6d8ae1a7",
   "metadata": {},
   "outputs": [],
   "source": [
    "arr1 = np.array(matrix)\n"
   ]
  },
  {
   "cell_type": "code",
   "execution_count": 22,
   "id": "fd78e7c1-eaa2-4f95-ba39-febf1a0836c9",
   "metadata": {},
   "outputs": [
    {
     "data": {
      "text/plain": [
       "(3, 4)"
      ]
     },
     "execution_count": 22,
     "metadata": {},
     "output_type": "execute_result"
    }
   ],
   "source": [
    "arr1.shape"
   ]
  },
  {
   "cell_type": "code",
   "execution_count": 23,
   "id": "1b7fa68e-47fd-42ff-a70a-14aa4747e5da",
   "metadata": {},
   "outputs": [
    {
     "name": "stdout",
     "output_type": "stream",
     "text": [
      "[17 14 19]\n"
     ]
    }
   ],
   "source": [
    "print(arr1[:, 2])"
   ]
  },
  {
   "cell_type": "code",
   "execution_count": 24,
   "id": "ecf006ed-9bf5-4a32-9339-26e6244d43c7",
   "metadata": {},
   "outputs": [
    {
     "name": "stdout",
     "output_type": "stream",
     "text": [
      "[ 8 21 14  3]\n"
     ]
    }
   ],
   "source": [
    "print(arr1[1])"
   ]
  },
  {
   "cell_type": "code",
   "execution_count": 25,
   "id": "bd16398a-ba48-4453-b30d-bafe0a9d5e4c",
   "metadata": {},
   "outputs": [
    {
     "name": "stdout",
     "output_type": "stream",
     "text": [
      "[[10 24 34 18]\n",
      " [16 42 28  6]\n",
      " [12 26 38 22]]\n"
     ]
    }
   ],
   "source": [
    "print(arr1 * 2)"
   ]
  },
  {
   "cell_type": "code",
   "execution_count": 26,
   "id": "742f5534-b776-4bca-8299-995b084c1d86",
   "metadata": {},
   "outputs": [
    {
     "name": "stdout",
     "output_type": "stream",
     "text": [
      "[ 6.33333333 15.33333333 16.66666667  7.66666667]\n"
     ]
    }
   ],
   "source": [
    "print(arr1.mean(axis=0))"
   ]
  },
  {
   "cell_type": "code",
   "execution_count": 27,
   "id": "0e090d6e-0550-45dd-86cb-ed6c200f1080",
   "metadata": {},
   "outputs": [
    {
     "name": "stdout",
     "output_type": "stream",
     "text": [
      "11.5\n"
     ]
    }
   ],
   "source": [
    "print(np.mean(arr1))"
   ]
  },
  {
   "cell_type": "code",
   "execution_count": 28,
   "id": "af5a946e-633b-4326-aab0-0b8710d5a2ab",
   "metadata": {},
   "outputs": [
    {
     "name": "stdout",
     "output_type": "stream",
     "text": [
      "[17 21 19]\n"
     ]
    }
   ],
   "source": [
    "print(arr1.max(axis=1))"
   ]
  },
  {
   "cell_type": "code",
   "execution_count": 29,
   "id": "074e9744-a057-486a-80a8-c4d0caccd214",
   "metadata": {},
   "outputs": [
    {
     "name": "stdout",
     "output_type": "stream",
     "text": [
      "[ 5 12 14  3]\n"
     ]
    }
   ],
   "source": [
    "print(arr1.min(axis=0))"
   ]
  },
  {
   "cell_type": "code",
   "execution_count": 33,
   "id": "f73ef322-5988-4659-9fb8-138edc01b5d0",
   "metadata": {},
   "outputs": [
    {
     "data": {
      "text/plain": [
       "array([ 5, 12, 17,  9,  8, 21, 14,  3,  6, 13, 19, 11])"
      ]
     },
     "execution_count": 33,
     "metadata": {},
     "output_type": "execute_result"
    }
   ],
   "source": [
    "arr1.flatten()"
   ]
  },
  {
   "cell_type": "code",
   "execution_count": 34,
   "id": "3ab8f9c6-ef43-4923-a334-f536cfa3c935",
   "metadata": {},
   "outputs": [
    {
     "data": {
      "text/plain": [
       "np.int64(7)"
      ]
     },
     "execution_count": 34,
     "metadata": {},
     "output_type": "execute_result"
    }
   ],
   "source": [
    "np.argmin(arr1.flatten())"
   ]
  },
  {
   "cell_type": "code",
   "execution_count": 35,
   "id": "30cbb980-2c81-44d0-b4c6-2781ac6ed7ae",
   "metadata": {},
   "outputs": [
    {
     "data": {
      "text/plain": [
       "np.int64(5)"
      ]
     },
     "execution_count": 35,
     "metadata": {},
     "output_type": "execute_result"
    }
   ],
   "source": [
    "np.argmax(arr1.flatten())"
   ]
  },
  {
   "cell_type": "code",
   "execution_count": 44,
   "id": "14bf3fdc-acf0-45d3-95fa-8a057929f2de",
   "metadata": {},
   "outputs": [
    {
     "data": {
      "text/plain": [
       "(np.int64(1), np.int64(3))"
      ]
     },
     "execution_count": 44,
     "metadata": {},
     "output_type": "execute_result"
    }
   ],
   "source": [
    "np.unravel_index(np.argmin(arr1.flatten()), arr1.shape)"
   ]
  },
  {
   "cell_type": "code",
   "execution_count": 45,
   "id": "fc0ce1b9-839c-4e83-a702-dae0aca8cb64",
   "metadata": {},
   "outputs": [
    {
     "data": {
      "text/plain": [
       "(np.int64(1), np.int64(1))"
      ]
     },
     "execution_count": 45,
     "metadata": {},
     "output_type": "execute_result"
    }
   ],
   "source": [
    "np.unravel_index(np.argmax(arr1.flatten()), arr1.shape)"
   ]
  },
  {
   "cell_type": "code",
   "execution_count": 46,
   "id": "43a2ab59-0625-4708-af2c-6a6a6514fcf3",
   "metadata": {},
   "outputs": [
    {
     "name": "stdout",
     "output_type": "stream",
     "text": [
      "[17 21 19]\n"
     ]
    }
   ],
   "source": [
    "print(arr1[arr1 > 15])"
   ]
  },
  {
   "cell_type": "code",
   "execution_count": 47,
   "id": "ca131a07-289d-469d-a142-e1187da0cb7e",
   "metadata": {},
   "outputs": [
    {
     "data": {
      "text/plain": [
       "array([[ 5,  9, 12, 17],\n",
       "       [ 3,  8, 14, 21],\n",
       "       [ 6, 11, 13, 19]])"
      ]
     },
     "execution_count": 47,
     "metadata": {},
     "output_type": "execute_result"
    }
   ],
   "source": [
    "np.sort(arr1, axis=1)"
   ]
  },
  {
   "cell_type": "code",
   "execution_count": 48,
   "id": "5d743695-de7e-40e4-9b04-1a98c8c9683d",
   "metadata": {},
   "outputs": [],
   "source": [
    "arr2 = np.array([\n",
    "\n",
    "[2, 3, 5],\n",
    "[14, 6, 8],\n",
    "[11, 13, 17],\n",
    "[7, 10, 13]\n",
    "\n",
    "])\n"
   ]
  },
  {
   "cell_type": "code",
   "execution_count": 49,
   "id": "8124107a-980c-42d1-8d0b-c1e1d094616b",
   "metadata": {},
   "outputs": [],
   "source": [
    "def is_prime(n):    \n",
    "    if n < 2:\n",
    "        return False\n",
    "    for i in range(2, n):\n",
    "        if n % i == 0:\n",
    "            return False\n",
    "    return True"
   ]
  },
  {
   "cell_type": "code",
   "execution_count": 50,
   "id": "73696319-d712-48e8-a45f-0a13539d8567",
   "metadata": {},
   "outputs": [],
   "source": [
    "def rows_with_prime(array):\n",
    "    result = []\n",
    "    for row in array:\n",
    "        for num in row:\n",
    "            if is_prime(num):\n",
    "                result.append(row)\n",
    "                break\n",
    "    return result"
   ]
  },
  {
   "cell_type": "code",
   "execution_count": 51,
   "id": "0c06b875-9772-4bf7-899c-403d4c53728b",
   "metadata": {},
   "outputs": [
    {
     "data": {
      "text/plain": [
       "[array([2, 3, 5]), array([11, 13, 17]), array([ 7, 10, 13])]"
      ]
     },
     "execution_count": 51,
     "metadata": {},
     "output_type": "execute_result"
    }
   ],
   "source": [
    "rows_with_prime(arr2)"
   ]
  },
  {
   "cell_type": "code",
   "execution_count": 53,
   "id": "eea8fd3d-e3ed-49e6-8cab-5a09532b7bc9",
   "metadata": {},
   "outputs": [],
   "source": [
    "board = np.zeros((8,8),dtype=int)"
   ]
  },
  {
   "cell_type": "code",
   "execution_count": 56,
   "id": "4d7b6d57-cb93-4014-ba7b-af9968434cd6",
   "metadata": {},
   "outputs": [
    {
     "name": "stdout",
     "output_type": "stream",
     "text": [
      "[[1 0 1 0 1 0 1 0]\n",
      " [0 1 0 1 0 1 0 1]\n",
      " [1 0 1 0 1 0 1 0]\n",
      " [0 1 0 1 0 1 0 1]\n",
      " [1 0 1 0 1 0 1 0]\n",
      " [0 1 0 1 0 1 0 1]\n",
      " [1 0 1 0 1 0 1 0]\n",
      " [0 1 0 1 0 1 0 1]]\n"
     ]
    }
   ],
   "source": [
    "def checkerboard():\n",
    "    board = np.zeros((8, 8), dtype=int)\n",
    "    board[::2, ::2] = 1   \n",
    "    board[1::2, 1::2] = 1\n",
    "    return board\n",
    "\n",
    "print(checkerboard())"
   ]
  },
  {
   "cell_type": "code",
   "execution_count": 59,
   "id": "7684dad0-d8bf-4e8e-99ea-788412821500",
   "metadata": {
    "editable": true,
    "slideshow": {
     "slide_type": ""
    },
    "tags": []
   },
   "outputs": [
    {
     "name": "stdout",
     "output_type": "stream",
     "text": [
      "[[0 1 0 1 0 1 0 1]\n",
      " [1 0 1 0 1 0 1 0]\n",
      " [0 1 0 1 0 1 0 1]\n",
      " [1 0 1 0 1 0 1 0]\n",
      " [0 1 0 1 0 1 0 1]\n",
      " [1 0 1 0 1 0 1 0]\n",
      " [0 1 0 1 0 1 0 1]\n",
      " [1 0 1 0 1 0 1 0]]\n"
     ]
    }
   ],
   "source": [
    "def reverse_checkerboard():\n",
    "    board1 = np.ones((8, 8), dtype=int)\n",
    "    board1[::2, ::2] = 0   \n",
    "    board1[1::2, 1::2] = 0\n",
    "    return board1\n",
    "\n",
    "print(reverse_checkerboard())"
   ]
  },
  {
   "cell_type": "code",
   "execution_count": 61,
   "id": "93907b2c-2074-4984-9316-837690580643",
   "metadata": {},
   "outputs": [
    {
     "name": "stdout",
     "output_type": "stream",
     "text": [
      "['g a l a x y' 'c l u s t e r s']\n",
      "['g  a  l  a  x  y' 'c  l  u  s  t  e  r  s']\n"
     ]
    }
   ],
   "source": [
    "def expansion(words, spaces):\n",
    "    result = []\n",
    "    for word in words:\n",
    "        result.append((\" \" * spaces).join(word))\n",
    "    return np.array(result)\n",
    "\n",
    "universe = np.array(['galaxy', 'clusters'])\n",
    "\n",
    "print(expansion(universe, 1))\n",
    "print(expansion(universe, 2))"
   ]
  },
  {
   "cell_type": "code",
   "execution_count": 62,
   "id": "579e3c2e-84d7-41e1-bdca-d871d15466f6",
   "metadata": {},
   "outputs": [],
   "source": [
    "def secondDimmest(stars):\n",
    "    return np.sort(stars)[:, -2]"
   ]
  },
  {
   "cell_type": "code",
   "execution_count": 63,
   "id": "d4712549-6ed9-4425-a5b9-b4e5d57476f1",
   "metadata": {},
   "outputs": [
    {
     "name": "stdout",
     "output_type": "stream",
     "text": [
      "[[1889 1906 1846 1622 1541]\n",
      " [ 606 1647 1738  596  613]\n",
      " [1138  547  573 1442  724]\n",
      " [ 611 1933 1863 1346 1777]\n",
      " [ 920 1108 1732 1592  951]]\n",
      "[1889 1647 1138 1863 1592]\n"
     ]
    }
   ],
   "source": [
    "np.random.seed(123)\n",
    "stars = np.random.randint(500, 2000, (5, 5))\n",
    "\n",
    "print(stars)\n",
    "print(secondDimmest(stars))"
   ]
  },
  {
   "cell_type": "code",
   "execution_count": null,
   "id": "3375404a-cd95-47b0-989d-1f7bfc3f1b68",
   "metadata": {},
   "outputs": [],
   "source": []
  }
 ],
 "metadata": {
  "kernelspec": {
   "display_name": "Python [conda env:base] *",
   "language": "python",
   "name": "conda-base-py"
  },
  "language_info": {
   "codemirror_mode": {
    "name": "ipython",
    "version": 3
   },
   "file_extension": ".py",
   "mimetype": "text/x-python",
   "name": "python",
   "nbconvert_exporter": "python",
   "pygments_lexer": "ipython3",
   "version": "3.13.5"
  }
 },
 "nbformat": 4,
 "nbformat_minor": 5
}
