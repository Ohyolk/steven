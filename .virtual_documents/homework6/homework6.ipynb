import numpy as np


list = [20, 27, 9, 12, 31, 17, 4, 50, 39, 35]
arr = np.array(list)


arr * 4


print(np.mean(arr))


print(np.median(arr))


print(np.std(arr))


print(np.argmin(arr))


print(np.argmax(arr))


print(arr[np.argmin(arr)])


print(arr[np.argmax(arr)])


print(np.min(arr))


print(np.max(arr))


print(arr[arr > 20])


matrix = [
    [5, 12, 17, 9],
    [8, 21, 14, 3],
    [6, 13, 19, 11]
]


arr1 = np.array(matrix)



arr1.shape


print(arr1[:, 2])


print(arr1[1])


print(arr1 * 2)


print(arr1.mean(axis=0))


print(np.mean(arr1))


print(arr1.max(axis=1))


print(arr1.min(axis=0))


arr1.flatten()


np.argmin(arr1.flatten())


np.argmax(arr1.flatten())


np.unravel_index(np.argmin(arr1.flatten()), arr1.shape)


np.unravel_index(np.argmax(arr1.flatten()), arr1.shape)


print(arr1[arr1 > 15])


np.sort(arr1, axis=1)



